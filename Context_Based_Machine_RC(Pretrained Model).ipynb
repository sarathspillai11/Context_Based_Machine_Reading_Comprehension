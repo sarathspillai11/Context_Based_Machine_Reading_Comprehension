{
 "cells": [
  {
   "cell_type": "code",
   "execution_count": 1,
   "id": "be56d4e8",
   "metadata": {},
   "outputs": [
    {
     "name": "stderr",
     "output_type": "stream",
     "text": [
      "C:\\Users\\s30319\\AppData\\Local\\anaconda3\\envs\\certainty_env\\lib\\site-packages\\tqdm\\auto.py:21: TqdmWarning: IProgress not found. Please update jupyter and ipywidgets. See https://ipywidgets.readthedocs.io/en/stable/user_install.html\n",
      "  from .autonotebook import tqdm as notebook_tqdm\n"
     ]
    }
   ],
   "source": [
    "from transformers import pipeline"
   ]
  },
  {
   "cell_type": "code",
   "execution_count": 2,
   "id": "492c42d3",
   "metadata": {},
   "outputs": [
    {
     "name": "stderr",
     "output_type": "stream",
     "text": [
      "No model was supplied, defaulted to distilbert-base-cased-distilled-squad and revision 626af31 (https://huggingface.co/distilbert-base-cased-distilled-squad).\n",
      "Using a pipeline without specifying a model name and revision in production is not recommended.\n",
      "Downloading (…)lve/main/config.json: 100%|█████████████████████████████████████████████| 473/473 [00:00<00:00, 237kB/s]\n",
      "C:\\Users\\s30319\\AppData\\Local\\anaconda3\\envs\\certainty_env\\lib\\site-packages\\huggingface_hub\\file_download.py:133: UserWarning: `huggingface_hub` cache-system uses symlinks by default to efficiently store duplicated files but your machine does not support them in C:\\Users\\s30319\\.cache\\huggingface\\hub. Caching files will still work but in a degraded version that might require more space on your disk. This warning can be disabled by setting the `HF_HUB_DISABLE_SYMLINKS_WARNING` environment variable. For more details, see https://huggingface.co/docs/huggingface_hub/how-to-cache#limitations.\n",
      "To support symlinks on Windows, you either need to activate Developer Mode or to run Python as an administrator. In order to see activate developer mode, see this article: https://docs.microsoft.com/en-us/windows/apps/get-started/enable-your-device-for-development\n",
      "  warnings.warn(message)\n",
      "Downloading pytorch_model.bin: 100%|████████████████████████████████████████████████| 261M/261M [00:48<00:00, 5.42MB/s]\n",
      "Downloading (…)okenizer_config.json: 100%|██████████████████████████████████████████| 29.0/29.0 [00:00<00:00, 9.67kB/s]\n",
      "Downloading (…)solve/main/vocab.txt: 100%|███████████████████████████████████████████| 213k/213k [00:00<00:00, 741kB/s]\n",
      "Downloading (…)/main/tokenizer.json: 100%|██████████████████████████████████████████| 436k/436k [00:00<00:00, 1.16MB/s]\n"
     ]
    }
   ],
   "source": [
    "qa_model = pipeline(\"question-answering\")\n",
    "question = \"Where do I live?\"\n",
    "context = \"My name is Merve and I live in İstanbul.\""
   ]
  },
  {
   "cell_type": "code",
   "execution_count": 3,
   "id": "35d2eee3",
   "metadata": {},
   "outputs": [
    {
     "data": {
      "text/plain": [
       "{'score': 0.9538118243217468, 'start': 31, 'end': 39, 'answer': 'İstanbul'}"
      ]
     },
     "execution_count": 3,
     "metadata": {},
     "output_type": "execute_result"
    }
   ],
   "source": [
    "qa_model(question = question, context = context)"
   ]
  },
  {
   "cell_type": "code",
   "execution_count": 6,
   "id": "bb125520",
   "metadata": {},
   "outputs": [],
   "source": [
    "para = \"\"\"Airbus says it has turned the corner after a crisis connected to production problems and turmoil in the boardroom at its A380 super-jumbo project that has gone on for the past year. Speaking at the Paris air show, Louis Gallois, CEO of the European planemaker, said, \"Airbus is back.\"\n",
    "\n",
    "Airbus, which announced a raft of orders on the first day of the show, is competing with Boeing, its American rival, for the title of the largest planemaker in the world.\n",
    "\n",
    "Boeing is expected to reveal the numbers of orders for its 787 Dreamliner soon. Airbus orders unveiled on Monday included Qatar Airways confirming a $16bn order for 80 A350 Airbus planes and ordering three A380 super-jumbos for about $750m.\n",
    "\n",
    "Boeing and Airbus are also competing for orders from aircraft leasing firms. Orders from these companies - who rank highly among the biggest global buyers of aircraft - are often regarded as an indication of how successful a model will be in the long term.\n",
    "\n",
    "Airbus also secured orders from US Airways that are worth $10bn for 22 of its A350 jets, 60 A320s and ten of its A330-200 wide-body planes.\n",
    "\n",
    "A few months ago, Airbus unveiled a major cost-cutting programme aiming to reduce the workforce in Europe by 10,000, as well as announcing a group restructuring. \"I can tell you with full confidence that Airbus is back and fully back, as you have started noting yesterday as demonstrated by our first day announcements,\" said Mr Gallois on the second day of the air show.\n",
    "\n",
    "However, Boeing also announced a deal with General Electric (GE) on the show's first day. GE's commercial aviation services placed an order for six 777 Boeing freighters valued at around $1.4bn, to be delivered in the last quarter of 2008.\n",
    "\n",
    "A Wall Street Journal website report, quoting the Delta operating chief yesterday said that Delta Air Lines were on the verge of ordering as many as 125 Boeing 787 jetliners by the end of this year. However, a spokesman for Delta later said that it had been having conversations \"with several aircraft makers\" and that \"no final decision\" had been made on future fleet purchases.\"\"\""
   ]
  },
  {
   "cell_type": "code",
   "execution_count": 9,
   "id": "fc902421",
   "metadata": {},
   "outputs": [],
   "source": [
    "ques1=\"Who is Airbus' biggest rival ?\""
   ]
  },
  {
   "cell_type": "code",
   "execution_count": 10,
   "id": "bf702993",
   "metadata": {},
   "outputs": [
    {
     "data": {
      "text/plain": [
       "{'score': 0.9101638197898865, 'start': 375, 'end': 381, 'answer': 'Boeing'}"
      ]
     },
     "execution_count": 10,
     "metadata": {},
     "output_type": "execute_result"
    }
   ],
   "source": [
    "qa_model(question = ques1, context = para)"
   ]
  },
  {
   "cell_type": "code",
   "execution_count": 11,
   "id": "b0032b5b",
   "metadata": {},
   "outputs": [],
   "source": [
    "ques2=\"What were the cost cutting measures done by Airbus ?\""
   ]
  },
  {
   "cell_type": "code",
   "execution_count": 13,
   "id": "7b4bbe8e",
   "metadata": {},
   "outputs": [
    {
     "data": {
      "text/plain": [
       "{'score': 0.320671021938324,\n",
       " 'start': 1174,\n",
       " 'end': 1214,\n",
       " 'answer': 'reduce the workforce in Europe by 10,000'}"
      ]
     },
     "execution_count": 13,
     "metadata": {},
     "output_type": "execute_result"
    }
   ],
   "source": [
    "qa_model(question = ques2, context = para)"
   ]
  },
  {
   "cell_type": "code",
   "execution_count": 14,
   "id": "5fabc6b6",
   "metadata": {},
   "outputs": [
    {
     "data": {
      "text/plain": [
       "{'score': 0.9597052335739136, 'start': 1208, 'end': 1214, 'answer': '10,000'}"
      ]
     },
     "execution_count": 14,
     "metadata": {},
     "output_type": "execute_result"
    }
   ],
   "source": [
    "ques3=\"How many cost cutting measures were taken by Airbus ?\"\n",
    "qa_model(question = ques3, context = para)"
   ]
  },
  {
   "cell_type": "code",
   "execution_count": null,
   "id": "cebb5bd6",
   "metadata": {},
   "outputs": [],
   "source": []
  }
 ],
 "metadata": {
  "kernelspec": {
   "display_name": "Python 3 (ipykernel)",
   "language": "python",
   "name": "python3"
  },
  "language_info": {
   "codemirror_mode": {
    "name": "ipython",
    "version": 3
   },
   "file_extension": ".py",
   "mimetype": "text/x-python",
   "name": "python",
   "nbconvert_exporter": "python",
   "pygments_lexer": "ipython3",
   "version": "3.10.10"
  }
 },
 "nbformat": 4,
 "nbformat_minor": 5
}
